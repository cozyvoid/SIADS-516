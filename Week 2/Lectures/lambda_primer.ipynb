{
 "cells": [
  {
   "cell_type": "markdown",
   "id": "3640a752-0834-4cec-9958-e3211d80b5b9",
   "metadata": {},
   "source": [
    "# Lambda Functions Primer\n",
    "## SIADS 516 Week 2 Office Hours\n",
    "### Created by Josh Haskins\n",
    "<br>"
   ]
  },
  {
   "cell_type": "markdown",
   "id": "4fe77e62-6a6a-4d2a-a7fb-f39a3c480d0d",
   "metadata": {},
   "source": [
    "## Contents:\n",
    "* What is a lambda function?\n",
    "* Basic examples\n",
    "* Intermediate examples\n",
    "* Overly complex example (don't do this please)\n",
    "* Lambda functions in PySpark"
   ]
  },
  {
   "cell_type": "markdown",
   "id": "b3b4940f-6bac-44b1-be36-babb5581f046",
   "metadata": {},
   "source": [
    "### What is a lambda function?\n",
    "<br>\n",
    "Lambda functions are small, anonymous (unnamed) one line functions that can take the place of a named function. They are generally used for simple operations but can handle more complex operations if you desire. <br>\n",
    "<br>\n",
    "It is worth noting that despite it being an unnamed function, you can actually store them in a variable for later use.\n",
    "<br>\n",
    "<br>\n",
    "Syntax of a lambda function:\n",
    "<br>\n",
    "<br>\n",
    "   <b><h4 style=\"text-align:center\"> <span style=\"color:green\">lambda </span> <span style=\"color:blue\"> arguments </span>: <span style=\"color:red\"> expression </span> </h4></b>\n",
    "<br>\n",
    "\n",
    "***<span style=\"color:green\">lambda </span>***: Keyword that tells the Python interpreter we are creating a lambda function\n",
    "<br>\n",
    "***<span style=\"color:blue\"> arguments </span>***: Any number of arguments can be supplied to a lambda function \n",
    "<br>\n",
    "***<span style=\"color:red\"> expression </span>*** : Only a single expression can be in a lambda function, and this expression will be automatically returned\n",
    "<br>\n"
   ]
  },
  {
   "cell_type": "markdown",
   "id": "56f52f61-e1e1-4bb7-a6b8-c5cfa86c782d",
   "metadata": {},
   "source": [
    "### Basic examples\n",
    "<a id='basic_examples'></a>"
   ]
  },
  {
   "cell_type": "code",
   "execution_count": 1,
   "id": "e406b0ce-ebe1-420a-864e-0ddd1c451dfa",
   "metadata": {},
   "outputs": [
    {
     "name": "stdout",
     "output_type": "stream",
     "text": [
      "25\n"
     ]
    }
   ],
   "source": [
    "# The classic square function in lambda form\n",
    "square_lambda = lambda x: x * x    # argument - input value, expression - input value multiplied by \n",
    "print(square_lambda(5))"
   ]
  },
  {
   "cell_type": "code",
   "execution_count": 2,
   "id": "caa00dab-8157-4cb8-b223-dd1447b66634",
   "metadata": {},
   "outputs": [
    {
     "name": "stdout",
     "output_type": "stream",
     "text": [
      "25\n"
     ]
    }
   ],
   "source": [
    "# The regular form of the same function\n",
    "def square(x):\n",
    "    return x * x\n",
    "    \n",
    "print(square(5))"
   ]
  },
  {
   "cell_type": "code",
   "execution_count": 3,
   "id": "3aa5bcf8-538a-4d29-81ea-ef27abfb4c48",
   "metadata": {},
   "outputs": [
    {
     "name": "stdout",
     "output_type": "stream",
     "text": [
      "256\n"
     ]
    }
   ],
   "source": [
    "# We can call regular functions inside lambda functions\n",
    "squared_square = lambda x: square(x) * square(x)\n",
    "print(squared_square(4))"
   ]
  },
  {
   "cell_type": "code",
   "execution_count": 4,
   "id": "56cbd0e5-3540-4320-854d-e28f8fcc56aa",
   "metadata": {},
   "outputs": [
    {
     "name": "stdout",
     "output_type": "stream",
     "text": [
      "256\n"
     ]
    }
   ],
   "source": [
    "# We can call lambda functions inside lambda functions\n",
    "lambda_squared_square = lambda x: square_lambda(x) * square_lambda(x)\n",
    "print(lambda_squared_square(4))"
   ]
  },
  {
   "cell_type": "code",
   "execution_count": 5,
   "id": "b0ba3a89-e9bb-45ac-ac2b-31833977c5f3",
   "metadata": {},
   "outputs": [
    {
     "name": "stdout",
     "output_type": "stream",
     "text": [
      "256\n"
     ]
    }
   ],
   "source": [
    "# We can mix and match\n",
    "mixed_squared_square = lambda x: square_lambda(x) * square(x)\n",
    "print(mixed_squared_square(4))"
   ]
  },
  {
   "cell_type": "code",
   "execution_count": 6,
   "id": "27a9fad8-3626-4456-a081-d731d3d7c2dd",
   "metadata": {},
   "outputs": [
    {
     "name": "stdout",
     "output_type": "stream",
     "text": [
      "8\n"
     ]
    }
   ],
   "source": [
    "# We can have more than one input\n",
    "add_lambda = lambda x, y: x + y\n",
    "print(add_lambda(3, 5))"
   ]
  },
  {
   "cell_type": "markdown",
   "id": "380df6e5-e9ca-498a-b31c-0d6b3037e5fe",
   "metadata": {},
   "source": [
    "### Intermediate Examples"
   ]
  },
  {
   "cell_type": "code",
   "execution_count": 1,
   "id": "c49f9b69-cdd9-406c-972d-e6d494be0c65",
   "metadata": {},
   "outputs": [
    {
     "name": "stdout",
     "output_type": "stream",
     "text": [
      "((-0.3333333333333333+0.47140452079103173j), (-0.3333333333333333-0.47140452079103173j))\n"
     ]
    }
   ],
   "source": [
    "# Given a,b,and c as inputs calculate both the positive and negative roots. Note: if you see j in your result that is the python symbol for an imaginary number ^_^\n",
    "quadratic_solver = lambda a,b,c: ((-b + (b**2 - 4*a*c)**(1/2)) / (2*a), (-b - (b**2 - 4*a*c)**(1/2)) / (2*a))\n",
    "print(quadratic_solver(3,2,1))"
   ]
  },
  {
   "cell_type": "code",
   "execution_count": 8,
   "id": "d3afded4-2c9b-4590-a812-39529e917f4e",
   "metadata": {},
   "outputs": [
    {
     "name": "stdout",
     "output_type": "stream",
     "text": [
      "(2.0, -3.0)\n"
     ]
    }
   ],
   "source": [
    "# Normal version of the quadratic solver. Note: we can get the square root of something by raising it to the 1/2 power\n",
    "def quadratic_normal(a,b,c):\n",
    "    positive = (-b + (b**2 - 4*a*c)**(1/2)) / (2*a)\n",
    "    negative = (-b - (b**2 - 4*a*c)**(1/2)) / (2*a)\n",
    "    return positive, negative\n",
    "print(quadratic_normal(1,1,-6))"
   ]
  },
  {
   "cell_type": "code",
   "execution_count": 9,
   "id": "a8571ed6-40cb-4bfc-a88a-87a10b8f5091",
   "metadata": {},
   "outputs": [
    {
     "data": {
      "text/plain": [
       "[1, 2, 3, 4, 5]"
      ]
     },
     "execution_count": 9,
     "metadata": {},
     "output_type": "execute_result"
    }
   ],
   "source": [
    "# Flatten a nested list one level\n",
    "flatten_lambda = lambda full_list: [item for sub_list in full_list for item in sub_list] \n",
    "nested_list = [[1, 2], [3, 4], [5]]\n",
    "flatten_lambda(nested_list)"
   ]
  },
  {
   "cell_type": "code",
   "execution_count": 10,
   "id": "2c265a57-52f4-4667-8ce6-e7dfdb8be3ad",
   "metadata": {},
   "outputs": [
    {
     "data": {
      "text/plain": [
       "[1, 2, 3, 4, 5]"
      ]
     },
     "execution_count": 10,
     "metadata": {},
     "output_type": "execute_result"
    }
   ],
   "source": [
    "# Normal version of flatten\n",
    "def flatten_normal(full_list):\n",
    "    new_list = []\n",
    "    for sub_list in full_list:\n",
    "        for item in sub_list:\n",
    "            new_list.append(item)\n",
    "    return new_list\n",
    "flatten_normal(nested_list)"
   ]
  },
  {
   "cell_type": "markdown",
   "id": "eb14e81e-d65f-4e78-8073-0839d5d0a4c1",
   "metadata": {},
   "source": [
    "Let's write a lambda function to solve the following piecewise mathematical function: <br>\n",
    "\n",
    "$$f(x) =\n",
    "\\begin{cases}\n",
    "x^2 & \\text{if } x < 0, \\\\\n",
    "\\sqrt{x} & \\text{if } 0 \\leq x < 10, \\\\\n",
    "x + 10 & \\text{if } x \\geq 10.\n",
    "\\end{cases} $$\n",
    "\n"
   ]
  },
  {
   "cell_type": "code",
   "execution_count": 11,
   "id": "6e8fb981-aa39-4ff9-9e7e-db9fb48c9dd7",
   "metadata": {},
   "outputs": [
    {
     "name": "stdout",
     "output_type": "stream",
     "text": [
      "16\n",
      "2.0\n",
      "25\n"
     ]
    }
   ],
   "source": [
    "# We can include logic inside lambda functions to change what the expression does just like in regular functions, but it is limited to binary operations (no elif)\n",
    "piecewise_lambda = lambda x: x**2 if x < 0 else (x**0.5 if x < 10 else x + 10)\n",
    "print(piecewise_lambda(-4))\n",
    "print(piecewise_lambda(4)) \n",
    "print(piecewise_lambda(15))"
   ]
  },
  {
   "cell_type": "markdown",
   "id": "a87bb063-7b22-450a-9c6c-c77fd61ba163",
   "metadata": {},
   "source": [
    "Note: This is probably right on the edge of being too complex for what you should be doing with a lambda function in the first place. The general rule of thumb I have heard is that if you have to do more than 2 things in a lambda function, you should probably write a normal function just for readability purposes. Here is the same thing in a more readable format:"
   ]
  },
  {
   "cell_type": "code",
   "execution_count": 12,
   "id": "c08fa359-4237-416a-944c-f39ad9a5e312",
   "metadata": {},
   "outputs": [
    {
     "name": "stdout",
     "output_type": "stream",
     "text": [
      "16\n",
      "2.0\n",
      "25\n"
     ]
    }
   ],
   "source": [
    "def piecewise_normal(x):\n",
    "    if x < 0:\n",
    "        return x**2\n",
    "    elif x < 10:\n",
    "        return x ** 0.5\n",
    "    else:\n",
    "        return x + 10\n",
    "print(piecewise_normal(-4))\n",
    "print(piecewise_normal(4)) \n",
    "print(piecewise_normal(15))"
   ]
  },
  {
   "cell_type": "markdown",
   "id": "7036f64b-b32d-4937-9ea9-d07a926576eb",
   "metadata": {},
   "source": [
    "### Overly Complex Example\n",
    "The following example shows that lambda functions can do some extremely complex things, but also hopefully demonstrate why you shouldn't do this because they are effectively unreadable.\n",
    "<br>\n",
    "<br>\n",
    "Example - Compute the following equation:\n",
    "\n",
    "$$f(x) =\n",
    "\\frac{\\text{factorial}(x) + \\sin^2(x) - \\cos(x)}{\n",
    "\\begin{cases} \n",
    "x^3 & \\text{if } x \\neq 0, \\\\\n",
    "1 & \\text{if } x = 0\n",
    "\\end{cases}\n",
    "}\n",
    "+ \\sum_{i=1}^{x} i^2$$"
   ]
  },
  {
   "cell_type": "code",
   "execution_count": 13,
   "id": "ec0868a6-3b6d-4592-b6a7-3000f11b51b8",
   "metadata": {},
   "outputs": [
    {
     "data": {
      "text/plain": [
       "56.953782161458335"
      ]
     },
     "execution_count": 13,
     "metadata": {},
     "output_type": "execute_result"
    }
   ],
   "source": [
    "# Insane lambda version (note: this is a recursive lambda expression!)\n",
    "complex_math_lambda = lambda x: (\n",
    "    (1 if x == 0 else x * complex_math_lambda(x - 1))  # factorial replacement\n",
    "    + (x - (x**3)/6 + (x**5)/120)**2  # sin(x)**2 approximation\n",
    "    - (1 - (x**2)/2 + (x**4)/24)  # cos(x) approximation\n",
    ") / (x**3 if x != 0 else 1) + sum(i**2 for i in range(1, x+1))\n",
    "\n",
    "complex_math_lambda(5)"
   ]
  },
  {
   "cell_type": "code",
   "execution_count": 14,
   "id": "4375fe15-ad82-408f-8641-51e125387117",
   "metadata": {},
   "outputs": [
    {
     "data": {
      "text/plain": [
       "56.677347222222224"
      ]
     },
     "execution_count": 14,
     "metadata": {},
     "output_type": "execute_result"
    }
   ],
   "source": [
    "# Normal function for the same equation. Much longer but also understandable to anyone else who looks at it.\n",
    "def complex_math_normal(x):\n",
    "    # Helper function to compute factorial recursively\n",
    "    def factorial(n):\n",
    "        if n == 0:\n",
    "            return 1\n",
    "        return n * factorial(n - 1)\n",
    "\n",
    "    # Helper function to approximate sin(x) using Taylor series expansion\n",
    "    def sine(x):\n",
    "        # sin(x) ≈ x - (x^3)/6 + (x^5)/120\n",
    "        return x - (x**3) / 6 + (x**5) / 120\n",
    "\n",
    "    # Helper function to approximate cos(x) using Taylor series expansion\n",
    "    def cosine(x):\n",
    "        # cos(x) ≈ 1 - (x^2)/2 + (x^4)/24\n",
    "        return 1 - (x**2) / 2 + (x**4) / 24\n",
    "\n",
    "    # Compute the factorial of x\n",
    "    numerator = factorial(x)\n",
    "\n",
    "    # Add the square of the sine of x to the numerator\n",
    "    numerator += sine(x)**2\n",
    "\n",
    "    # Subtract the cosine of x from the numerator\n",
    "    numerator -= cosine(x)\n",
    "\n",
    "    # Compute the denominator: x^3, but avoid division by zero\n",
    "    denominator = x**3 if x != 0 else 1\n",
    "\n",
    "    # Compute the sum of squares from 1 to x\n",
    "    sum_of_squares = sum(i**2 for i in range(1, x + 1))\n",
    "\n",
    "    # Final result: (numerator / denominator) + sum_of_squares\n",
    "    return numerator / denominator + sum_of_squares\n",
    "\n",
    "complex_math_normal(5) # slight differences due to the way python handles floats"
   ]
  },
  {
   "cell_type": "markdown",
   "id": "c95b2eac-cf71-40b1-bdb5-5af9fa8440ad",
   "metadata": {},
   "source": [
    "### Lambda Functions in PySpark\n",
    "\n",
    "Lambda functions in PySpark work largely the same as in regular python, but since we are generally passing them into Spark functions we need to be careful to understand what inputs Spark is going to pass into the lambda function are. Let's use the `reduceByKey` and `map` methods as examples to illustrate this.\n",
    "<br>\n",
    "<br>\n",
    "`reduceByKey` operates on pair RDDs which by definition contain tuples of (key,value). This means we always know it will be a 2-tuple (think MRJob inputs and outputs). This means that `reduceByKey` can use a unique lambda format that you see in the lecture slides: `.reduceByKey(lambda a, v: a + v)` where `a` is the accumulator and `v` is the value being added to that accumulator.\n",
    "<br>\n",
    "<br>\n",
    "`map` on the other hand can be used anywhere, so how can Spark know in advance what will be contained in the underlying RDD? Short version: it can't. The result is that if you try to do something like `.map(lambda x, y: y)` instead of `.map(lambda x: x[1])` you will get an error even though it sure feels like it should work. However, can you do this: `.map(lambda (x,y): y)` ?"
   ]
  },
  {
   "cell_type": "markdown",
   "id": "9594e5aa-fe31-4cd5-a50b-714caf77bd2d",
   "metadata": {},
   "source": [
    "Here is a quick table of some of the common PySpark methods for your reference:\n",
    "\n",
    "| **Method**           | **Input Function** | **What It Operates On**                      | **Example**                     |\n",
    "|-----------------------|--------------------|----------------------------------------------|----------------------------------|\n",
    "| `.map`               | `lambda x`        | Each element in the RDD                      | `lambda x: x[1]` (extract index)|\n",
    "| `.flatMap`           | `lambda x`        | Each element in the RDD, but returns multiple elements | `lambda x: x.split()` |\n",
    "| `.filter`            | `lambda x`        | Each element in the RDD (returns `True/False`) | `lambda x: x > 5`              |\n",
    "| `.reduceByKey`       | `lambda a, b`     | Values grouped by key                        | `lambda a, b: a + b`            |\n",
    "| `.groupByKey`        | `lambda x`        | Groups all values for a key (not a reduction) | `lambda x: x[1]`                |\n",
    "| `.sortBy`            | `lambda x`        | A key for sorting                            | `lambda x: x[1]` (sort by index)|\n",
    "| `.keyBy`             | `lambda x`        | Turns elements into key-value pairs          | `lambda x: x[0]`                |\n"
   ]
  }
 ],
 "metadata": {
  "kernelspec": {
   "display_name": "Python 3.10 (ipykernel)",
   "language": "python",
   "name": "python3"
  },
  "language_info": {
   "codemirror_mode": {
    "name": "ipython",
    "version": 3
   },
   "file_extension": ".py",
   "mimetype": "text/x-python",
   "name": "python",
   "nbconvert_exporter": "python",
   "pygments_lexer": "ipython3",
   "version": "3.10.11"
  }
 },
 "nbformat": 4,
 "nbformat_minor": 5
}
