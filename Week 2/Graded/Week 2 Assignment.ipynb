{
 "cells": [
  {
   "cell_type": "markdown",
   "metadata": {},
   "source": [
    "SIADS 516: Homework 2\n",
    "Dr. Chris Teplovs, School of Information, University of Michigan\n",
    "Kris Steinhoff, School of Information, University of Michigan"
   ]
  },
  {
   "cell_type": "code",
   "execution_count": null,
   "metadata": {},
   "outputs": [],
   "source": [
    "# The AutograderHelper class provides methods used by the autograder.\n",
    "from autograder_helper import AutograderHelper"
   ]
  },
  {
   "cell_type": "code",
   "execution_count": null,
   "metadata": {},
   "outputs": [],
   "source": [
    "# Autograder cell. This cell is worth 0 points.\n",
    "# This cell has hidden code used to configure the autograder."
   ]
  },
  {
   "cell_type": "markdown",
   "metadata": {},
   "source": [
    "# Using the Spark RDD API to analyze text\n",
    "Data are from \n",
    "https://www.kaggle.com/nzalake52/new-york-times-articles\n",
    "\n",
    "## Objectives\n",
    "1. To gain familiarity with PySpark\n",
    "2. To learn the basics of the Spark RDD API\n",
    "3. To practice solving a real-world problem\n",
    "\n",
    "## Overview\n",
    "\n",
    "This project was inspired by an actual event that was experienced by a UMSI student.  This student was applying for a \n",
    "job with a large multi-national corporation (let's call it XYZ, Inc.).  XYZ Inc. was looking for someone who could \n",
    "conduct an analysis of a massive (terabyte-size) text dataset.  They had heard about Spark and planned on investigating it but hadn't yet found someone internally who had the skill set required to tackle the problem.  The UMSI student indicated that they had experience with Spark and could likely handle the task.  The hiring supervisor then provided a non-Spark script and asked the student to demonstrate how that script could be translated to work in a Spark environment.  The student was able to do the conversion and, pending completion of their degree, will have secured a job at XYZ, Inc.\n",
    "\n",
    "This assignment simulates that exact situation.  **In this assignment you will take a python-based script that does\n",
    "part-of-speech tagging on a large dataset and convert it, as much as possible, to use a pyspark-based approach.**"
   ]
  },
  {
   "cell_type": "markdown",
   "metadata": {},
   "source": [
    "---\n",
    "\n",
    "### Task: Review non-Spark code\n",
    "\n",
    "The original script was written by Luke Petschauer and a forked version is available in this notebook: [NP_chunking_with_the_NLTK.ipynb](https://github.com/umsi-data-science/NP_chunking_with_nltk/blob/master/NP_chunking_with_the_NLTK.ipynb).\n",
    "\n",
    "It provides a detailed explanation of the original code and an excellent overview and justification for the use of\n",
    "part-of-speech tagging and a super-gentle introduction to Natural Language Processing (NLP).\n",
    "\n",
    "Let's use some of the code from that notebook here...\n",
    "\n",
    "We'll start by importing the required packages, and making sure the NLTK collections are downloaded to your environment."
   ]
  },
  {
   "cell_type": "code",
   "execution_count": null,
   "metadata": {},
   "outputs": [],
   "source": [
    "import nltk\n",
    "import re\n",
    "import pprint\n",
    "from nltk import Tree\n",
    "\n",
    "nltk.download(\n",
    "    \"book\"\n",
    ")  # NOTE: this should be unnecessary for Coursera image (should be preloaded)"
   ]
  },
  {
   "cell_type": "code",
   "execution_count": null,
   "metadata": {},
   "outputs": [],
   "source": [
    "# Output\n",
    "True"
   ]
  },
  {
   "cell_type": "code",
   "execution_count": null,
   "metadata": {},
   "outputs": [],
   "source": [
    "# Download necessary NLTK data \n",
    "nltk.download('punkt_tab') \n",
    "nltk.download('averaged_perceptron_tagger_eng') \n",
    "nltk.download('maxent_ne_chunker') \n",
    "nltk.download('words')"
   ]
  },
  {
   "cell_type": "code",
   "execution_count": null,
   "metadata": {},
   "outputs": [],
   "source": [
    "# Output\n",
    "True"
   ]
  },
  {
   "cell_type": "markdown",
   "metadata": {},
   "source": [
    "The code in the next cell is from the \"Final Code\" section in the NP_chunking_with_the_NLTK.ipynb notebook (linked above). This implementation doesn't use Spark. "
   ]
  },
  {
   "cell_type": "code",
   "execution_count": null,
   "metadata": {},
   "outputs": [],
   "source": [
    "# This is the original (non-Spark) script\n",
    "\n",
    "patterns = \"\"\"\n",
    "    NP: {<JJ>*<NN*>+}\n",
    "    {<JJ>*<NN*><CC>*<NN*>+}\n",
    "    \"\"\"\n",
    "\n",
    "NPChunker = nltk.RegexpParser(patterns)\n",
    "\n",
    "\n",
    "def prepare_text(input):\n",
    "    sentences = nltk.sent_tokenize(input)\n",
    "    sentences = [nltk.word_tokenize(sent) for sent in sentences]\n",
    "    sentences = [nltk.pos_tag(sent) for sent in sentences]\n",
    "    sentences = [NPChunker.parse(sent) for sent in sentences]\n",
    "    return sentences\n",
    "\n",
    "\n",
    "def parsed_text_to_NP(sentences):\n",
    "    nps = []\n",
    "    for sent in sentences:\n",
    "        tree = NPChunker.parse(sent)\n",
    "        for subtree in tree.subtrees():\n",
    "            if subtree.label() == \"NP\":\n",
    "                t = subtree\n",
    "                t = \" \".join(word for word, tag in t.leaves())\n",
    "                nps.append(t)\n",
    "    return nps\n",
    "\n",
    "\n",
    "def sent_parse(input):\n",
    "    sentences = prepare_text(str(input))\n",
    "    nps = parsed_text_to_NP(sentences)\n",
    "    return nps"
   ]
  },
  {
   "cell_type": "code",
   "execution_count": null,
   "metadata": {},
   "outputs": [],
   "source": [
    "text_to_be_analyzed = \"\"\"\\\n",
    "WASHINGTON - Stellar pitching kept the Mets afloat in the first half of last season despite their offensive\n",
    "woes. But they cannot produce an encore of their pennant-winning season if their lineup keeps floundering\n",
    "while their pitching is nicked, bruised and stretched thin.\n",
    "\n",
    "\"We were going to ride our pitching,\" Manager Terry Collins said before Wednesday's game. \"But we're not\n",
    "riding it right now. We've got as many problems with our pitching as we do anything.\"\n",
    "\n",
    "Wednesday's 4-2 loss to the Washington Nationals was cruel for the already-limping Mets. Pitching in Steven\n",
    "Matz's place, the spot starter Logan Verrett allowed two runs over five innings. But even that was too large\n",
    "a deficit for the Mets' lineup to overcome against Max Scherzer, the Nationals' starter.\n",
    "\n",
    "\"We're not even giving ourselves chances,\" Collins said, adding later, \"We just can't give our pitchers any\n",
    "room to work.\"\n",
    "\n",
    "The Mets did not score until the ninth inning, when a last-gasp two-run homer by James Loney off Nationals\n",
    "reliever Shawn Kelley snapped a streak of 23 scoreless innings for the team.\n",
    "\"\"\"\n",
    "\n",
    "\n",
    "nps = sent_parse(text_to_be_analyzed)\n",
    "\n",
    "# Print a list of noun phrases found in text_to_be_analyzed\n",
    "print(nps)"
   ]
  },
  {
   "cell_type": "code",
   "execution_count": null,
   "metadata": {},
   "outputs": [],
   "source": [
    "# Output\n",
    "'''\n",
    "['Stellar pitching', 'afloat', 'first half', 'last season', 'encore', 'pennant-winning season', \n",
    "'lineup', 'pitching', 'thin', 'pitching', 'game', 'pitching', 'anything', '4-2 loss', 'place', \n",
    "'spot starter', 'deficit', 'lineup', 'starter', 'room', 'ninth inning', 'last-gasp two-run homer', \n",
    "'reliever', 'streak', 'team']\n",
    "'''"
   ]
  },
  {
   "cell_type": "markdown",
   "metadata": {},
   "source": [
    "You will be taking a similar approach to analyze a large set of news articles from the New York Times using pyspark.\n",
    "\n",
    "**Before you continue to the next task, you should:**\n",
    "- read through and study the NP_chunking_with_the_NLTK.ipynb notebook (linked above)\n",
    "- study and run the cells above.\n",
    "\n",
    "---"
   ]
  },
  {
   "cell_type": "code",
   "execution_count": null,
   "metadata": {},
   "outputs": [],
   "source": [
    "# Import packages and set up a Spark Session and Context.\n",
    "\n",
    "from pyspark.sql import SparkSession\n",
    "\n",
    "spark = (\n",
    "    SparkSession.builder.master(\"local[*]\")\n",
    "    .appName(\"SIADS 516 Homework 2\")\n",
    "    .getOrCreate()\n",
    ")\n",
    "\n",
    "sc = spark.sparkContext\n",
    "sc._conf.set(\"spark.default.parallelism\", 2)"
   ]
  },
  {
   "cell_type": "code",
   "execution_count": null,
   "metadata": {},
   "outputs": [],
   "source": [
    "# Output\n",
    "<pyspark.conf.SparkConf at 0x7c2ce4416920>"
   ]
  },
  {
   "cell_type": "markdown",
   "metadata": {},
   "source": [
    "---\n",
    "\n",
    "## Question 1 -- Part-of-Speech Count\n",
    "\n",
    "### Task: Create an RDD pipeline to show the count of each part-of-speech tag sorted in descending order\n",
    "\n",
    "Complete the implementation of the `pos_counts()` function below so that it uses an RDD pipeline (i.e. sequence of transformations) to:\n",
    "1. filter out blank lines \n",
    "2. filter out lines starting with 'URL'\n",
    "3. create a single list (using flatMap) that applies the `pos_tag_counter()` function (this is defined below for you below) to each line\n",
    "4. map each resulting element to show the part of speech (which is the second element returned from the pos_tag_counter)\n",
    "5. convert each resulting element to a pairRDD with POS tags as keys and values of 1\n",
    "6. reduce the resulting RDD by key, adding up all the 1s (like the lecture and lab examples)\n",
    "7. sort the resulting list by the counts, in descending order"
   ]
  },
  {
   "cell_type": "code",
   "execution_count": null,
   "metadata": {},
   "outputs": [],
   "source": [
    "# This is the function you will use with flatMap in your pipeline.\n",
    "\n",
    "TOKEN_RE = re.compile(r\"\\b[\\w']+\\b\")\n",
    "\n",
    "\n",
    "def pos_tag_counter(line):\n",
    "    toks = nltk.regexp_tokenize(line, TOKEN_RE)\n",
    "    postoks = nltk.tag.pos_tag(toks)\n",
    "    return postoks"
   ]
  },
  {
   "cell_type": "code",
   "execution_count": null,
   "metadata": {},
   "outputs": [],
   "source": [
    "def pos_counts(rdd):\n",
    "    # Filter out blank lines \n",
    "    filtered_rdd = rdd.filter(lambda line: line.strip() != \"\") \n",
    "    # Filter out lines starting with 'URL' \n",
    "    filtered_rdd = filtered_rdd.filter(lambda line: not line.startswith('URL')) \n",
    "    # Create a single list using flatMap that applies pos_tag_counter() to each line \n",
    "    pos_tagged_rdd = filtered_rdd.flatMap(pos_tag_counter) \n",
    "    # Map each element to show the part of speech (second element) \n",
    "    pos_only_rdd = pos_tagged_rdd.map(lambda x: (x[1], 1)) \n",
    "    # Reduce the RDD by key, adding up all the 1s \n",
    "    pos_count_rdd = pos_only_rdd.reduceByKey(lambda a, b: a + b) \n",
    "    # Sort the resulting list by the counts in descending order \n",
    "    pos_total_sorted = pos_count_rdd.sortBy(lambda x: x[1], ascending=False)\n",
    "    return pos_total_sorted\n",
    "# This should be the final stage of your pipeline, an RDD with the\n",
    "# count of each part-of-speech tag sorted in descending order."
   ]
  },
  {
   "cell_type": "markdown",
   "metadata": {},
   "source": [
    "Let's start by trying your code on a small data set. The `text_to_be_analyzed` from the cells above will do nicely. We can use the parallelize() method to turn it into a RDD, pass that to your function, and then take() the first ten entries:"
   ]
  },
  {
   "cell_type": "code",
   "execution_count": null,
   "metadata": {},
   "outputs": [],
   "source": [
    "small_text = sc.parallelize(text_to_be_analyzed.split(\"\\n\"))\n",
    "\n",
    "small_pos_counts = pos_counts(small_text)"
   ]
  },
  {
   "cell_type": "code",
   "execution_count": null,
   "metadata": {},
   "outputs": [],
   "source": [
    "small_pos_counts_take_10 = small_pos_counts.take(10)\n",
    "small_pos_counts_take_10"
   ]
  },
  {
   "cell_type": "code",
   "execution_count": null,
   "metadata": {},
   "outputs": [],
   "source": [
    "# Output\n",
    "'''\n",
    "[('NN', 30),\n",
    " ('NNP', 24),\n",
    " ('IN', 20),\n",
    " ('DT', 16),\n",
    " ('VBD', 11),\n",
    " ('RB', 11),\n",
    " ('NNS', 10),\n",
    " ('JJ', 10),\n",
    " ('PRP$', 7),\n",
    " ('PRP', 6)]\n",
    "'''"
   ]
  },
  {
   "cell_type": "code",
   "execution_count": null,
   "metadata": {},
   "outputs": [],
   "source": [
    "# Autograder cell. This cell is worth 2 points (out of 20). This cell does not contain hidden tests.\n",
    "# This cell deliberately includes answers to provide guidance on how this question is graded.\n",
    "\n",
    "correct = AutograderHelper.parse_spark_take(\n",
    "    [\n",
    "        (\"NN\", 30),\n",
    "        (\"NNP\", 24),\n",
    "        (\"IN\", 20),\n",
    "        (\"DT\", 16),\n",
    "        (\"VBD\", 11),\n",
    "        (\"RB\", 11),\n",
    "        (\"NNS\", 10),\n",
    "        (\"JJ\", 10),\n",
    "        (\"PRP$\", 7),\n",
    "        (\"PRP\", 6),\n",
    "    ]\n",
    ")\n",
    "\n",
    "submitted = AutograderHelper.parse_spark_take(small_pos_counts_take_10)\n",
    "\n",
    "AutograderHelper.assert_same_shape(correct, submitted)\n",
    "AutograderHelper.assert_same_rows(correct, submitted)\n",
    "AutograderHelper.assert_same_columns(correct, submitted)"
   ]
  },
  {
   "cell_type": "markdown",
   "metadata": {},
   "source": [
    "Now let's run it against a much larger data set. *The complete analysis could take about 10 minutes to run.*"
   ]
  },
  {
   "cell_type": "code",
   "execution_count": null,
   "metadata": {},
   "outputs": [],
   "source": [
    "text = sc.textFile(\"../../assets/data/nytimes/nytimes_news_articles.txt\")\n",
    "\n",
    "pos_counts = pos_counts(text)"
   ]
  },
  {
   "cell_type": "code",
   "execution_count": null,
   "metadata": {},
   "outputs": [],
   "source": [
    "pos_counts_take_10 = pos_counts.take(10)\n",
    "pos_counts_take_10"
   ]
  },
  {
   "cell_type": "code",
   "execution_count": null,
   "metadata": {},
   "outputs": [],
   "source": [
    "# Output\n",
    "'''\n",
    "[('NN', 1126515),\n",
    " ('IN', 928916),\n",
    " ('NNP', 853093),\n",
    " ('DT', 761492),\n",
    " ('JJ', 498482),\n",
    " ('NNS', 437116),\n",
    " ('VBD', 379509),\n",
    " ('PRP', 282603),\n",
    " ('RB', 271053),\n",
    " ('CC', 231491)]\n",
    "'''"
   ]
  },
  {
   "cell_type": "code",
   "execution_count": null,
   "metadata": {},
   "outputs": [],
   "source": [
    "assert pos_counts_take_10[0] == (\n",
    "    \"NN\",\n",
    "    1126515,\n",
    "), \"The first item in the result is not correct.\""
   ]
  },
  {
   "cell_type": "code",
   "execution_count": null,
   "metadata": {},
   "outputs": [],
   "source": [
    "# Autograder cell. This cell is worth 8 points (out of 20). This cell contains hidden tests."
   ]
  },
  {
   "cell_type": "markdown",
   "metadata": {},
   "source": [
    "---\n",
    "\n",
    "## Question 2 -- Noun Phrase Length\n",
    "\n",
    "### Task: Create an RDD pipeline to show the distribution of the length of noun phrases\n",
    "\n",
    "Complete the implementation of the `noun_phrase_length_distribution()` function below so that it uses an RDD pipeline  to return a PairRDD which contains the distribution of the length of noun phrases.\n",
    "\n",
    "- The function `get_noun_phrases()` is defined below for you.\n",
    "- You can use flatMap() to apply `get_noun_phrases()` to each entry in the input RDD.\n",
    "- Sorting the resulting list by the counts in descending order will make the results easier to interpret.\n",
    "- Note that the filters from the previous question (PART-OF-SPEECH COUNT) are **not needed here**. That is: you *don't* need to remove blank lines or lines that start with \"URL\"."
   ]
  },
  {
   "cell_type": "code",
   "execution_count": null,
   "metadata": {},
   "outputs": [],
   "source": [
    "# This cell defines the get_noun_phrases() function you will use with flatMap()\n",
    "\n",
    "grammar = r\"\"\"\n",
    "    NBAR:\n",
    "        {<NN.*|JJS>*<NN.*>}\n",
    "\n",
    "    NP:\n",
    "        {<NBAR>}\n",
    "        {<NBAR><IN><NBAR>}\n",
    "\"\"\"\n",
    "\n",
    "\n",
    "def get_noun_phrases(line):\n",
    "    \"\"\"\n",
    "    This function returns a list of lists of tuples. Each entry (list of tuples) is a\n",
    "    breakdown of a noun phrase, and each tuple contains the word and a code for the noun\n",
    "    phrase part.\n",
    "\n",
    "    For example, get_noun_phrases(\"The quick brown fox, jumps over the lazy dog.\") returns:\n",
    "\n",
    "    [\n",
    "        [('brown', 'NN'), ('fox', 'NN')],\n",
    "        [('dog', 'NN')]\n",
    "    ]\n",
    "\n",
    "    \"\"\"\n",
    "\n",
    "    TOKEN_RE = re.compile(r\"\\b[\\w']+\\b\")\n",
    "\n",
    "    chunker = nltk.RegexpParser(grammar)\n",
    "\n",
    "    toks = nltk.regexp_tokenize(line, TOKEN_RE)\n",
    "    postoks = nltk.tag.pos_tag(toks)\n",
    "\n",
    "    if len(postoks) == 0:\n",
    "        return []\n",
    "\n",
    "    tree = chunker.parse(postoks)\n",
    "\n",
    "    return [term for term in leaves(tree)]\n",
    "\n",
    "\n",
    "def leaves(tree):\n",
    "    for subtree in tree.subtrees(filter=lambda t: t.label() == \"NP\"):\n",
    "        yield subtree.leaves()"
   ]
  },
  {
   "cell_type": "code",
   "execution_count": null,
   "metadata": {},
   "outputs": [],
   "source": [
    "def noun_phrase_length_distribution(rdd):\n",
    "    # Use flatMap to apply get_noun_phrases to each entry in the input RDD\n",
    "    noun_phrases_rdd = rdd.flatMap(get_noun_phrases)\n",
    "    \n",
    "    # Map each noun phrase to a key-value pair (length of noun phrase, 1)\n",
    "    length_rdd = noun_phrases_rdd.map(lambda np: (len(np), 1))\n",
    "    \n",
    "    # Reduce the RDD by key (length) to get the count of each length\n",
    "    length_counts_rdd = length_rdd.reduceByKey(lambda a, b: a + b)\n",
    "    \n",
    "    # Sort the results by counts in descending order\n",
    "    sorted_length_counts_rdd = length_counts_rdd.sortBy(lambda x: x[1], ascending=False)\n",
    "    \n",
    "    return sorted_length_counts_rdd\n",
    "    # This should be the final stage of your pipeline, a PairRDD with the\n",
    "    # distribution of the length of noun phrases."
   ]
  },
  {
   "cell_type": "code",
   "execution_count": null,
   "metadata": {},
   "outputs": [],
   "source": [
    "small_counts = noun_phrase_length_distribution(small_text)"
   ]
  },
  {
   "cell_type": "code",
   "execution_count": null,
   "metadata": {},
   "outputs": [],
   "source": [
    "small_counts_take_10 = small_counts.take(10)\n",
    "small_counts_take_10"
   ]
  },
  {
   "cell_type": "code",
   "execution_count": null,
   "metadata": {},
   "outputs": [],
   "source": [
    "# Ouput\n",
    "'''\n",
    "[(1, 27), (2, 11), (3, 3), (4, 2)]\n",
    "'''"
   ]
  },
  {
   "cell_type": "markdown",
   "metadata": {},
   "source": [
    "The cell above should produce this output:\n",
    "\n",
    "```\n",
    "[(1, 27), (2, 11), (3, 3), (4, 2)]\n",
    "```\n",
    "\n",
    "This means there are 27 1-word noun phrases, 11 2-word noun phrases, 3 3-word noun phrases, and 2 4-word noun phrases in the `small_text` data set."
   ]
  },
  {
   "cell_type": "code",
   "execution_count": null,
   "metadata": {},
   "outputs": [],
   "source": [
    "# Autograder cell. This cell is worth 2 points (out of 20). This cell does not contain hidden tests.\n",
    "# This cell deliberately includes answers to provide guidance on how this question is graded.\n",
    "\n",
    "correct = AutograderHelper.parse_spark_take([(1, 27), (2, 11), (3, 3), (4, 2)])\n",
    "submitted = AutograderHelper.parse_spark_take(small_counts_take_10)\n",
    "\n",
    "AutograderHelper.assert_same_shape(correct=correct, submitted=submitted)\n",
    "AutograderHelper.assert_same_rows(correct=correct, submitted=submitted)\n",
    "AutograderHelper.assert_same_columns(correct=correct, submitted=submitted)"
   ]
  },
  {
   "cell_type": "markdown",
   "metadata": {},
   "source": [
    "Now let's run it against the larger data set. *The complete analysis could take about 10 minutes to run.*"
   ]
  },
  {
   "cell_type": "code",
   "execution_count": null,
   "metadata": {},
   "outputs": [],
   "source": [
    "text = sc.textFile(\"../../assets/data/nytimes/nytimes_news_articles.txt\")\n",
    "\n",
    "counts = noun_phrase_length_distribution(text)"
   ]
  },
  {
   "cell_type": "code",
   "execution_count": null,
   "metadata": {},
   "outputs": [],
   "source": [
    "counts_take_10 = counts.take(10)\n",
    "counts_take_10"
   ]
  },
  {
   "cell_type": "code",
   "execution_count": null,
   "metadata": {},
   "outputs": [],
   "source": [
    "# Output\n",
    "'''\n",
    "[(1, 1205976),\n",
    " (2, 353457),\n",
    " (3, 119065),\n",
    " (4, 35890),\n",
    " (5, 11079),\n",
    " (6, 3889),\n",
    " (7, 1400),\n",
    " (8, 543),\n",
    " (9, 257),\n",
    " (10, 112)]\n",
    "'''"
   ]
  },
  {
   "cell_type": "code",
   "execution_count": null,
   "metadata": {},
   "outputs": [],
   "source": [
    "assert counts_take_10[0] == (1, 1205976), \"The first item in the result is not correct.\""
   ]
  },
  {
   "cell_type": "code",
   "execution_count": null,
   "metadata": {},
   "outputs": [],
   "source": [
    "# Autograder cell. This cell is worth 8 points (out of 20). This cell contains hidden tests."
   ]
  }
 ],
 "metadata": {
  "language_info": {
   "name": "python"
  }
 },
 "nbformat": 4,
 "nbformat_minor": 2
}
