{
 "cells": [
  {
   "cell_type": "markdown",
   "metadata": {},
   "source": [
    "1. True or false? Every Spark Dataframe can have a view created."
   ]
  },
  {
   "cell_type": "markdown",
   "metadata": {},
   "source": [
    "Answer: True\n",
    "\n",
    "Explanation: In Spark, you can create a view from any DataFrame using the createOrReplaceTempView or createOrReplaceGlobalTempView methods. These methods allow you to create a temporary or global temporary view of the DataFrame, which can then be queried using SQL. This is useful for running SQL queries on your DataFrame without having to write complex DataFrame operations."
   ]
  },
  {
   "cell_type": "markdown",
   "metadata": {},
   "source": [
    "2. Which of the below is a correct sequencing for an SQL selection statement? \n",
    "\n",
    "- SELECT [columns] FROM [tables] WHERE [filter conditionals] ORDER BY [sort columns] \n",
    "- FROM [tables] SELECT [columns] WHERE [filter conditionals] ORDER BY [sort columns] \n",
    "- SELECT [columns] FROM [tables] ORDER BY [sort columns] WHERE [filter conditionals] \n",
    "- ORDER [columns] BY [conditional] FROM [tables] SELECT WHERE [filter conditionals]"
   ]
  },
  {
   "cell_type": "markdown",
   "metadata": {},
   "source": [
    "**Answer:** SELECT [columns] FROM [tables] WHERE [filter conditionals] ORDER BY [sort columns]\n",
    "\n",
    "**Explanation:**\n",
    "The correct sequence for an SQL selection statement follows this order:\n",
    "1. **SELECT [columns]**: Specifies the columns to be retrieved.\n",
    "2. **FROM [tables]**: Specifies the table(s) from which to retrieve the data.\n",
    "3. **WHERE [filter conditionals]**: Applies conditions to filter the rows.\n",
    "4. **ORDER BY [sort columns]**: Specifies the columns by which to sort the result set.\n",
    "\n",
    "This sequence ensures that the SQL query retrieves the specified columns from the specified tables, filters the rows based on the conditions, and sorts the result set by the specified columns."
   ]
  },
  {
   "cell_type": "markdown",
   "metadata": {},
   "source": [
    "3. Which of the below characters are used for wildcards? \n",
    "- $ \n",
    "- _ \n",
    "- @ \n",
    "- %"
   ]
  },
  {
   "cell_type": "markdown",
   "metadata": {},
   "source": [
    "In SQL, the characters used for wildcards are:\n",
    "\n",
    "- **_**: Represents a single character.\n",
    "- **%**: Represents zero or more characters.\n",
    "\n",
    "So, the correct answers are **_** and **%**.\n",
    "\n",
    "### Explanation:\n",
    "- **_ (underscore)**: This wildcard character is used to match any single character. For example, the pattern `_a` would match any two-character string where the second character is 'a' (e.g., \"ba\", \"ca\").\n",
    "- **% (percent)**: This wildcard character is used to match any sequence of characters (including zero characters). For example, the pattern `%a` would match any string that ends with 'a' (e.g., \"ba\", \"cba\", \"a\")."
   ]
  },
  {
   "cell_type": "markdown",
   "metadata": {},
   "source": [
    "4. Which of the following are true about WHERE and HAVING in SQL? \n",
    "\n",
    "- WHERE is applied to the output following a GROUP BY \n",
    "- HAVING is applied to the output following a GROUP BY \n",
    "- WHERE and HAVING both accept the same format of conditional argument/phrase \n",
    "- WHERE immediately follows FROM [table_names]"
   ]
  },
  {
   "cell_type": "markdown",
   "metadata": {},
   "source": [
    "1. **WHERE is applied to the output following a GROUP BY**: False. The `WHERE` clause is applied before the `GROUP BY` clause, filtering rows before they are grouped.\n",
    "\n",
    "2. **HAVING is applied to the output following a GROUP BY**: True. The `HAVING` clause is used to filter groups after the `GROUP BY` clause has been applied.\n",
    "\n",
    "3. **WHERE and HAVING both accept the same format of conditional argument/phrase**: True. Both `WHERE` and `HAVING` clauses accept similar conditional arguments, but `WHERE` is used to filter rows before grouping, while `HAVING` is used to filter groups after grouping.\n",
    "\n",
    "4. **WHERE immediately follows FROM [table_names]**: True. The `WHERE` clause comes immediately after the `FROM` clause in an SQL query.\n",
    "\n",
    "### Summary:\n",
    "- **True**: HAVING is applied to the output following a GROUP BY\n",
    "- **True**: WHERE and HAVING both accept the same format of conditional argument/phrase\n",
    "- **True**: WHERE immediately follows FROM [table_names]"
   ]
  },
  {
   "cell_type": "markdown",
   "metadata": {},
   "source": [
    "5. True or False? Triple quotes can be used to write more easily-readable, multiline SQL statements."
   ]
  },
  {
   "cell_type": "markdown",
   "metadata": {},
   "source": [
    "**True**. Triple quotes (`'''` or `\"\"\"`) can be used in Python to write more easily-readable, multiline SQL statements. This is particularly useful when writing complex SQL queries that span multiple lines, as it helps maintain readability and organization.\n",
    "\n",
    "### Example:\n",
    "```python\n",
    "query = \"\"\"\n",
    "SELECT column1, column2\n",
    "FROM table_name\n",
    "WHERE condition1 = value1\n",
    "AND condition2 = value2\n",
    "ORDER BY column1;\n",
    "\"\"\"\n",
    "```\n",
    "\n",
    "Using triple quotes allows you to format the SQL query in a way that is easy to read and understand."
   ]
  },
  {
   "cell_type": "markdown",
   "metadata": {},
   "source": [
    "6. Which of the following SQL keywords can be utilized to temporarily \"rename\" or \"alias\" a column? \n",
    "\n",
    "- AS \n",
    "- RENAME \n",
    "- WITHNAME \n",
    "- NAMEAS"
   ]
  },
  {
   "cell_type": "markdown",
   "metadata": {},
   "source": [
    "The correct SQL keyword to temporarily \"rename\" or \"alias\" a column is **AS**.\n",
    "\n",
    "### Explanation:\n",
    "- **AS**: This keyword is used to create an alias for a column or table. It allows you to temporarily rename a column or table for the duration of the query.\n",
    "  ```sql\n",
    "  SELECT column_name AS alias_name\n",
    "  FROM table_name;\n",
    "  ```\n",
    "\n",
    "- **RENAME**: This keyword is not used for aliasing columns. It is typically used to rename tables or columns permanently in some SQL dialects, but not for temporary aliasing in a query.\n",
    "\n",
    "- **WITHNAME**: This is not a valid SQL keyword.\n",
    "\n",
    "- **NAMEAS**: This is not a valid SQL keyword.\n",
    "\n",
    "### Example:\n",
    "```sql\n",
    "SELECT first_name AS name\n",
    "FROM employees;\n",
    "```\n",
    "\n",
    "In this example, the `first_name` column is temporarily renamed to `name` for the duration of the query."
   ]
  },
  {
   "cell_type": "markdown",
   "metadata": {},
   "source": [
    "7. An SQL Join that returns all records when a match exists in either (left or right) table is a/an: \n",
    "\n",
    "- Left (Outer) Join \n",
    "- Right (Outer) Join \n",
    "- Full (Outer) Join \n",
    "- (Inner) Join"
   ]
  },
  {
   "cell_type": "markdown",
   "metadata": {},
   "source": [
    "The correct answer is **Full (Outer) Join**.\n",
    "\n",
    "### Explanation:\n",
    "- **Left (Outer) Join**: Returns all records from the left table and the matched records from the right table. If there is no match, the result is NULL on the side of the right table.\n",
    "- **Right (Outer) Join**: Returns all records from the right table and the matched records from the left table. If there is no match, the result is NULL on the side of the left table.\n",
    "- **Full (Outer) Join**: Returns all records when there is a match in either the left or right table. If there is no match, the result is NULL on the side that does not have a match.\n",
    "- **(Inner) Join**: Returns only the records that have matching values in both tables.\n",
    "\n",
    "### Example:\n",
    "```sql\n",
    "SELECT *\n",
    "FROM table1\n",
    "FULL OUTER JOIN table2\n",
    "ON table1.id = table2.id;\n",
    "```\n",
    "\n",
    "In this example, the `FULL OUTER JOIN` returns all records from both `table1` and `table2`, with NULLs in places where there is no match."
   ]
  },
  {
   "cell_type": "markdown",
   "metadata": {},
   "source": [
    "8. An SQL Join that returns all left-table records with records matched in the right table is a/an: \n",
    "\n",
    "- Right (Outer) Join \n",
    "- Left (Outer) Join \n",
    "- Full (Outer) Join \n",
    "- (Inner) Join"
   ]
  },
  {
   "cell_type": "markdown",
   "metadata": {},
   "source": [
    "The correct answer is **Left (Outer) Join**.\n",
    "\n",
    "### Explanation:\n",
    "- **Left (Outer) Join**: Returns all records from the left table and the matched records from the right table. If there is no match, the result is NULL on the side of the right table.\n",
    "- **Right (Outer) Join**: Returns all records from the right table and the matched records from the left table. If there is no match, the result is NULL on the side of the left table.\n",
    "- **Full (Outer) Join**: Returns all records when there is a match in either the left or right table. If there is no match, the result is NULL on the side that does not have a match.\n",
    "- **(Inner) Join**: Returns only the records that have matching values in both tables.\n",
    "\n",
    "### Example:\n",
    "```sql\n",
    "SELECT *\n",
    "FROM table1\n",
    "LEFT OUTER JOIN table2\n",
    "ON table1.id = table2.id;\n",
    "```\n",
    "\n",
    "In this example, the `LEFT OUTER JOIN` returns all records from `table1` and the matched records from `table2`, with NULLs in places where there is no match."
   ]
  }
 ],
 "metadata": {
  "language_info": {
   "name": "python"
  }
 },
 "nbformat": 4,
 "nbformat_minor": 2
}
