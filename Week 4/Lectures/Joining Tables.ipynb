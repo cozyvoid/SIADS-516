{
 "cells": [
  {
   "cell_type": "markdown",
   "metadata": {},
   "source": [
    "**Data Extraction from Multiple Tables:**\n",
    "- The discussion begins by contrasting simple data extraction from a single table with scenarios involving multiple tables or data frames. This involves the use of keys, often a unique ID, to link tables."
   ]
  },
  {
   "cell_type": "markdown",
   "metadata": {},
   "source": [
    "**Concept of Keys:**\n",
    "- Keys in data mapping and reducing do not need to be unique; however, when joining tables, at least one table should ideally have unique keys. This is a reinforcement of SQL concepts covered in previous coursework."
   ]
  },
  {
   "cell_type": "markdown",
   "metadata": {},
   "source": [
    "**SQL Joins Explanation:**\n",
    "- Different types of joins are explained using SQL syntax:\n",
    "    - **Inner Join**: Returns records with matching values in both tables. If a user ID is not present in both, it will not appear in the result.\n",
    "    - **Left Join (Outer Join)**: Returns all records from the left table and matched records from the right table. If there are no matches, records from the left table still appear.\n",
    "    - **Right Join (Outer Join)**: Returns all records from the right table and matched records from the left table.\n",
    "    - **Full Join (Full Outer Join)**: Returns all records where there's a match in either left or right tables."
   ]
  },
  {
   "cell_type": "markdown",
   "metadata": {},
   "source": [
    "**Example Usage in SQL and Spark SQL:**\n",
    "- An example is given using SQL syntax to demonstrate joining tables:\n",
    "    - Selecting `reviewText` and `userName` from the Review table by joining with the User table on userId.\n",
    "- Another example in Spark SQL demonstrates selecting `businessName` and `text` from the `Tip` table, left joining the `Business` table on matching business IDs to retrieve corresponding business names."
   ]
  },
  {
   "cell_type": "markdown",
   "metadata": {},
   "source": [
    "## Key Points:\n",
    "- Joins enable the amalgamation of data from multiple tables into a larger, comprehensive dataset.\n",
    "- The directionality of joins (left, right, full) determines the handling of missing or non-matching records.\n",
    "- Familiarity with SQL operations is assumed, based on prerequisite coursework."
   ]
  },
  {
   "cell_type": "markdown",
   "metadata": {},
   "source": [
    "This structured overview captures the essence and details of the discussed concepts on database joins and their applications in data operations."
   ]
  }
 ],
 "metadata": {
  "language_info": {
   "name": "python"
  }
 },
 "nbformat": 4,
 "nbformat_minor": 2
}
