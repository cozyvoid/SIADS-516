{
 "cells": [
  {
   "cell_type": "markdown",
   "metadata": {},
   "source": [
    "1. **User Defined Functions (UDFs) in Spark SQL:**\n",
    "- Similar to the previous discussions where plain Python functions were used.\n",
    "- UDFs in Spark SQL require an additional step of registration.\n",
    "- The registration process involves using `Spark udf` to assign a name and type to the function.\n",
    "- Example used: A function that squares a number.\n",
    "- Once registered, the UDF can be used within the SQL query as a string."
   ]
  },
  {
   "cell_type": "markdown",
   "metadata": {},
   "source": [
    "2. **Process of Registering a UDF in Spark SQL:**\n",
    "- Define a Python function.\n",
    "- Utilize a lambda operator to apply the function to dataset values.\n",
    "- Specify the data type of the return value (e.g., integer).\n",
    "- Register the function with Spark, allowing it to be used in SQL query strings."
   ]
  },
  {
   "cell_type": "markdown",
   "metadata": {},
   "source": [
    "3. **Querying with UDF in Spark SQL:**\n",
    "- Example given on how a registered function can be used within a SQL query.\n",
    "- Demonstrated that functions can be defined outside of the SQL query but referenced within it."
   ]
  },
  {
   "cell_type": "markdown",
   "metadata": {},
   "source": [
    "4. **Extracting Data from Spark:**\n",
    "- Introduction to converting a Spark DataFrame to a Pandas DataFrame using `toPandas`.\n",
    "- Caution advised against converting large datasets directly due to memory limitations.\n",
    "- Conversion in reverse is also possible by initializing a Spark DataFrame from a Pandas DataFrame, lists, sets, dictionaries, or files."
   ]
  },
  {
   "cell_type": "markdown",
   "metadata": {},
   "source": [
    "## Additional Notes:\n",
    "- Emphasis on efficient use of memory when dealing with Spark and Pandas conversions.\n",
    "- Reference to previous discussions on similar topics for context."
   ]
  }
 ],
 "metadata": {
  "kernelspec": {
   "display_name": "Python 3",
   "language": "python",
   "name": "python3"
  },
  "language_info": {
   "name": "python",
   "version": "3.13.0"
  }
 },
 "nbformat": 4,
 "nbformat_minor": 2
}
