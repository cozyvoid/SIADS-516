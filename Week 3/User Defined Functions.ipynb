{
 "cells": [
  {
   "cell_type": "markdown",
   "metadata": {},
   "source": [
    "## User Defined Functions (UDFs) in PySpark\n",
    "**Overview** User Defined Functions (UDFs) in PySpark allow the application of plain Python functions to rows in a DataFrame, similar to mapping or applying functions in Pandas. Due to the strongly typed nature of PySpark, UDFs require specifying output types, akin to when creating a DataFrame from a list.\n",
    "**Using UDFs:**\n",
    "- Importing UDF Module: Start by importing the udf function from PySpark SQL functions.\n",
    "- **Defining a Simple Function:**\n",
    "    - Example: Define a simple square function that returns the square of a number.\n",
    "- **Creating a UDF:**\n",
    "    - Wrap the function using a lambda to handle data.\n",
    "    - Specify the return type with PySpark SQL types (e.g., `IntegerType`).\n",
    "    - Assign the UDF to a variable (`square_udf_int`) for reuse."
   ]
  },
  {
   "cell_type": "markdown",
   "metadata": {},
   "source": [
    "## Example Implementation:\n",
    "1. **Square Function UDF:**\n",
    "- Define a square function.\n",
    "- Convert it to a UDF implementing an integer output type.\n",
    "- Use this function to transform scores in a DataFrame, resulting in a new column with squared values.\n",
    "2. **Handling Complex Data Types (Dates):**\n",
    "- Dates are stored as a string with time components.\n",
    "- Use split functions on a string (e.g., separating dates by commas into an array).\n",
    "- Define a UDF with a return type of a list of strings.\n",
    "- Apply the UDF to split date strings, producing a structured date list."
   ]
  },
  {
   "cell_type": "markdown",
   "metadata": {},
   "source": [
    "## Working with UDFs in PySpark:\n",
    "- **Explode Functionality:**\n",
    "- Import and use `explode` to manage list structures, transforming a column of lists into individual rows.\n",
    "- Use `withColumn` to create a new column for each element in the exploded date list structure.\n",
    "- This creates rows for each check-in date while maintaining the original business ID."
   ]
  },
  {
   "cell_type": "markdown",
   "metadata": {},
   "source": [
    "## Practical Example:\n",
    "- Define a DataFrame column.\n",
    "- Apply UDFs to transform the data type from strings to lists.\n",
    "- Use explode to iterate and create individual entries for transformed lists.\n",
    "- Validate outputs ensuring the transformation matches expected data structures."
   ]
  },
  {
   "cell_type": "markdown",
   "metadata": {},
   "source": [
    "The exercise embodies using UDFs to manage and transform data types not natively supported or easily manageable in traditional SQL-type operations within PySpark."
   ]
  }
 ],
 "metadata": {
  "language_info": {
   "name": "python"
  }
 },
 "nbformat": 4,
 "nbformat_minor": 2
}
