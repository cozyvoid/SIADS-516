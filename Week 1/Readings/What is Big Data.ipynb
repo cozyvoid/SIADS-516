{
 "cells": [
  {
   "cell_type": "markdown",
   "metadata": {},
   "source": [
    "**Introduction**\n",
    "\n",
    "    - The course \"SIADS 516: Big Data and Scalable Data Processing\" is taught by Chris Teplofs and spans four weeks.\n",
    "    - The initial week introduces the fundamental concepts of Big Data, including MapReduce, distributed computing, Hadoop, and a package called MrJob."
   ]
  },
  {
   "cell_type": "markdown",
   "metadata": {},
   "source": [
    "**Main Topics Discussed**"
   ]
  },
  {
   "cell_type": "markdown",
   "metadata": {},
   "source": [
    "*What is Big Data?*\n",
    "    **Three V's of Big Data**: The concept originates from a paper by Laney and includes:\n",
    "        - **Volume**: Refers to the large amounts of data generated, predominantly by machines, not humans.\n",
    "        - **Velocity**: The rapid speed at which data is created and processed, allowing for real-time data collection.\n",
    "        - **Variety**: Diversification beyond numerical data to include text, audio, images, and video."
   ]
  },
  {
   "cell_type": "markdown",
   "metadata": {},
   "source": [
    "*Differentiation from Small Data*\n",
    "\n",
    "    - Big Data is not solely defined by the size (bytes) like terabytes, petabytes, etc. but also by the complexity and the approach needed for analysis.\n",
    "    - Traditional statistical analyses are often ineffective due to sheer data size and complexity."
   ]
  },
  {
   "cell_type": "markdown",
   "metadata": {},
   "source": [
    "*Why Big Data is Important*\n",
    "    **Constraints**: The main limitations are time and monetary resources.\n",
    "    **Applications**:\n",
    "        - **Exploratory Data Analysis**: Provides more accurate insights compared to small sample data.\n",
    "        - **Inductive Statistics**: Allows inference of population properties beyond descriptive statistics by not hiding phenomena due to data volume.\n",
    "        - **Predictive Analytics**: Particularly relevant in emerging fields like machine learning, offering significant applications of Big Data for predictive purposes."
   ]
  },
  {
   "cell_type": "markdown",
   "metadata": {},
   "source": [
    "*Key Concepts*   \n",
    "    **MapReduce**: A crucial concept serving as the foundation of the course, essential for understanding data processing in Big Data environments.\n",
    "    **Distributed Computing**: Leveraging numerous, cost-effective computing devices for large-scale data processing.\n",
    "    **Hadoop**: A framework utilized implicitly in the course to manage and process Big Data.\n",
    "    **Map, Sort, Shuffle, and Reduce Pipeline**: The course covers these processes to contextualize data handling.\n",
    "    **MrJob Package**: It supports executing MapReduce techniques discussed in the course, further tying theory to practice."
   ]
  },
  {
   "cell_type": "markdown",
   "metadata": {},
   "source": [
    "*Conclusion*\n",
    "> Big Data shifts the paradigm of data analysis by focusing on analytical approaches that cater to vast and complex datasets. It is integral for modern data-driven decision-making."
   ]
  }
 ],
 "metadata": {
  "language_info": {
   "name": "python"
  }
 },
 "nbformat": 4,
 "nbformat_minor": 2
}
