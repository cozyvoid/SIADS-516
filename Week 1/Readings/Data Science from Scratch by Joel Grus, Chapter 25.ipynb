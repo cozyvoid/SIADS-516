{
 "cells": [
  {
   "cell_type": "markdown",
   "metadata": {},
   "source": [
    "**Chapter 25. MapReduce**\n",
    "\n",
    "The future has already arrived. It’s just not evenly distributed yet.\n",
    "    - William Gibson\n",
    "\n",
    "MapReduce is a programming model for performing parallel processing on large datasets. Although it is a powerful technique, its basics are relatively simple.\n",
    "\n",
    "Imagine we have a collection of items we’d like to process somehow. For instance, the items might be website logs, the texts of various books, image files, or anything else. A basic version of the MapReduce algorithm consists of the following steps:\n",
    "\n",
    "    1. Use a `mapper` function to turn each item into zero or more key/value pairs. (Often this is called the `map` function, but there is already a Python function called `map` and we don’t need to confuse the two.)\n",
    "\n",
    "    2. Collect together all the pairs with identical keys.\n",
    "\n",
    "    3. Use a `reducer` function on each collection of grouped values to produce output values for the corresponding key.\n",
    "\n",
    "**NOTE**\n",
    "MapReduce is sort of passé, so much so that I considered removing this chapter from the second edition. But I decided it’s still an interesting topic, so I ended up leaving it in (obviously).\n",
    "\n",
    "This is all sort of abstract, so let’s look at a specific example. There are few absolute rules of data science, but one of them is that your first MapReduce example has to involve counting words."
   ]
  },
  {
   "cell_type": "markdown",
   "metadata": {},
   "source": [
    "Example: Word Count\n",
    "`DataSciencester` has grown to millions of users! This is great for your job security, but it makes routine analyses slightly more difficult.\n",
    "\n",
    "For example, your VP of Content wants to know what sorts of things people are talking about in their status updates. As a first attempt, you decide to count the words that appear, so that you can prepare a report on the most frequent ones.\n",
    "\n",
    "When you had a few hundred users, this was simple to do:"
   ]
  },
  {
   "cell_type": "code",
   "execution_count": null,
   "metadata": {},
   "outputs": [],
   "source": [
    "from typing import List\n",
    "from collections import Counter\n",
    "\n",
    "def tokenize(document: str) -> List[str]:\n",
    "    \"\"\"Just split on whitespace\"\"\"\n",
    "    return document.split()\n",
    "\n",
    "def word_count_old(documents: List[str]):\n",
    "    \"\"\"Word count not using MapReduce\"\"\"\n",
    "    return Counter(word\n",
    "        for document in documents\n",
    "        for word in tokenize(document))"
   ]
  },
  {
   "cell_type": "markdown",
   "metadata": {},
   "source": [
    "With millions of users the set of `documents` (status updates) is suddenly too big to fit on your computer. If you can just fit this into the MapReduce model, you can use some “big data” infrastructure that your engineers have implemented.\n",
    "\n",
    "First, we need a function that turns a document into a sequence of key/value pairs. We’ll want our output to be grouped by word, which means that the keys should be words. And for each word, we’ll just emit the value `1` to indicate that this pair corresponds to one occurrence of the word:"
   ]
  },
  {
   "cell_type": "code",
   "execution_count": null,
   "metadata": {},
   "outputs": [],
   "source": [
    "from typing import Iterator, Tuple\n",
    "\n",
    "def wc_mapper(document: str) -> Iterator[Tuple[str, int]]:\n",
    "    \"\"\"For each word in the document, emit (word, 1)\"\"\"\n",
    "    for word in tokenize(document):\n",
    "        yield (word, 1)"
   ]
  },
  {
   "cell_type": "markdown",
   "metadata": {},
   "source": [
    "Skipping the “plumbing” step 2 for the moment, imagine that for some word we’ve collected a list of the corresponding counts we emitted. To produce the overall count for that word, then, we just need:"
   ]
  },
  {
   "cell_type": "code",
   "execution_count": null,
   "metadata": {},
   "outputs": [],
   "source": [
    "from typing import Iterable\n",
    "\n",
    "def wc_reducer(word: str,\n",
    "               counts: Iterable[int]) -> Iterator[Tuple[str, int]]:\n",
    "    \"\"\"Sum up the counts for a word\"\"\"\n",
    "    yield (word, sum(counts))"
   ]
  },
  {
   "cell_type": "markdown",
   "metadata": {},
   "source": [
    "Returning to step 2, we now need to collect the results from `wc_mapper` and feed them to `wc_reducer`. Let’s think about how we would do this on just one computer:"
   ]
  },
  {
   "cell_type": "code",
   "execution_count": null,
   "metadata": {},
   "outputs": [],
   "source": [
    "from collections import defaultdict\n",
    "\n",
    "def word_count(documents: List[str]) -> List[Tuple[str, int]]:\n",
    "    \"\"\"Count the words in the input documents using MapReduce\"\"\"\n",
    "\n",
    "    collector = defaultdict(list)  # To store grouped values\n",
    "\n",
    "    for document in documents:\n",
    "        for word, count in wc_mapper(document):\n",
    "            collector[word].append(count)\n",
    "\n",
    "    return [output\n",
    "            for word, counts in collector.items()\n",
    "            for output in wc_reducer(word, counts)]"
   ]
  },
  {
   "cell_type": "markdown",
   "metadata": {},
   "source": [
    "Imagine that we have three documents `[\"data science\", \"big data\", \"science fiction\"]`.\n",
    "\n",
    "Then `wc_mapper` applied to the first document yields the two pairs `(\"data\", 1)` and `(\"science\", 1)`. After we’ve gone through all three documents, the `collector` contains:"
   ]
  },
  {
   "cell_type": "code",
   "execution_count": null,
   "metadata": {},
   "outputs": [],
   "source": [
    "{\"data\" : [1, 1],\n",
    " \"science\" : [1, 1],\n",
    " \"big\" : [1],\n",
    " \"fiction\" : [1]}"
   ]
  },
  {
   "cell_type": "markdown",
   "metadata": {},
   "source": [
    "Then `wc_reducer` produces the counts for each word:"
   ]
  },
  {
   "cell_type": "code",
   "execution_count": null,
   "metadata": {},
   "outputs": [],
   "source": [
    "[(\"data\", 2), (\"science\", 2), (\"big\", 1), (\"fiction\", 1)]"
   ]
  },
  {
   "cell_type": "markdown",
   "metadata": {},
   "source": [
    "**Why MapReduce?**\n",
    "\n",
    "As mentioned earlier, the primary benefit of MapReduce is that it allows us to distribute computations by moving the processing to the data. Imagine we want to word-count across billions of documents.\n",
    "\n",
    "Our original (non-MapReduce) approach requires the machine doing the processing to have access to every document. This means that the documents all need to either live on that machine or else be transferred to it during processing. More important, it means that the machine can process only one document at a time.\n",
    "\n",
    "**NOTE**\n",
    "Possibly it can process up to a few at a time if it has multiple cores and if the code is rewritten to take advantage of them. But even so, all the documents still have to get to that machine.\n",
    "\n",
    "Imagine now that our billions of documents are scattered across 100 machines. With the right infrastructure (and glossing over some of the details), we can do the following:\n",
    "\n",
    "    - Have each machine run the mapper on its documents, producing lots of key/value pairs.\n",
    "    - Distribute those key/value pairs to a number of “reducing” machines, making sure that the pairs corresponding to any given key all end up on the same machine.\n",
    "    - Have each reducing machine group the pairs by key and then run the reducer on each set of values.\n",
    "    - Return each (key, output) pair.\n",
    "\n",
    "What is amazing about this is that it scales horizontally. If we double the number of machines, then (ignoring certain fixed costs of running a MapReduce system) our computation should run approximately twice as fast. Each mapper machine will only need to do half as much work, and (assuming there are enough distinct keys to further distribute the reducer work) the same is true for the reducer machines."
   ]
  },
  {
   "cell_type": "markdown",
   "metadata": {},
   "source": [
    "**MapReduce More Generally**\n",
    "\n",
    "If you think about it for a minute, all of the word count–specific code in the previous example is contained in the wc_mapper and `wc_reducer` functions. This means that with a couple of changes we have a much more general framework (that still runs on a single machine).\n",
    "\n",
    "We could use generic types to fully type-annotate our `map_reduce` function, but it would end up being kind of a mess pedagogically, so in this chapter we’ll be much more casual about our type annotations:"
   ]
  },
  {
   "cell_type": "code",
   "execution_count": null,
   "metadata": {},
   "outputs": [],
   "source": [
    "from typing import Callable, Iterable, Any, Tuple\n",
    "\n",
    "# A key/value pair is just a 2-tuple\n",
    "KV = Tuple[Any, Any]\n",
    "\n",
    "# A Mapper is a function that returns an Iterable of key/value pairs\n",
    "Mapper = Callable[..., Iterable[KV]]\n",
    "\n",
    "# A Reducer is a function that takes a key and an iterable of values\n",
    "# and returns a key/value pair\n",
    "Reducer = Callable[[Any, Iterable], KV]"
   ]
  },
  {
   "cell_type": "markdown",
   "metadata": {},
   "source": [
    "Now we can write a general `map_reduce` function:"
   ]
  },
  {
   "cell_type": "code",
   "execution_count": null,
   "metadata": {},
   "outputs": [],
   "source": [
    "def map_reduce(inputs: Iterable,\n",
    "               mapper: Mapper,\n",
    "               reducer: Reducer) -> List[KV]:\n",
    "    \"\"\"Run MapReduce on the inputs using mapper and reducer\"\"\"\n",
    "    collector = defaultdict(list)\n",
    "\n",
    "    for input in inputs:\n",
    "        for key, value in mapper(input):\n",
    "            collector[key].append(value)\n",
    "\n",
    "    return [output\n",
    "            for key, values in collector.items()\n",
    "            for output in reducer(key, values)]"
   ]
  },
  {
   "cell_type": "markdown",
   "metadata": {},
   "source": [
    "Then we can count words simply by using:"
   ]
  },
  {
   "cell_type": "code",
   "execution_count": null,
   "metadata": {},
   "outputs": [],
   "source": [
    "word_counts = map_reduce(documents, wc_mapper, wc_reducer)"
   ]
  },
  {
   "cell_type": "markdown",
   "metadata": {},
   "source": [
    "This gives us the flexibility to solve a wide variety of problems.\n",
    "\n",
    "Before we proceed, notice that `wc_reducer` is just summing the values corresponding to each key. This kind of aggregation is common enough that it’s worth abstracting it out:"
   ]
  },
  {
   "cell_type": "code",
   "execution_count": null,
   "metadata": {},
   "outputs": [],
   "source": [
    "def values_reducer(values_fn: Callable) -> Reducer:\n",
    "    \"\"\"Return a reducer that just applies values_fn to its values\"\"\"\n",
    "    def reduce(key, values: Iterable) -> KV:\n",
    "        return (key, values_fn(values))\n",
    "\n",
    "    return reduce"
   ]
  },
  {
   "cell_type": "markdown",
   "metadata": {},
   "source": [
    "After which we can easily create:"
   ]
  },
  {
   "cell_type": "code",
   "execution_count": null,
   "metadata": {},
   "outputs": [],
   "source": [
    "sum_reducer = values_reducer(sum)\n",
    "max_reducer = values_reducer(max)\n",
    "min_reducer = values_reducer(min)\n",
    "count_distinct_reducer = values_reducer(lambda values: len(set(values)))\n",
    "\n",
    "assert sum_reducer(\"key\", [1, 2, 3, 3]) == (\"key\", 9)\n",
    "assert min_reducer(\"key\", [1, 2, 3, 3]) == (\"key\", 1)\n",
    "assert max_reducer(\"key\", [1, 2, 3, 3]) == (\"key\", 3)\n",
    "assert count_distinct_reducer(\"key\", [1, 2, 3, 3]) == (\"key\", 3)"
   ]
  },
  {
   "cell_type": "markdown",
   "metadata": {},
   "source": [
    "and so on."
   ]
  },
  {
   "cell_type": "markdown",
   "metadata": {},
   "source": [
    "Example: Analyzing Status Updates\n",
    "The content VP was impressed with the word counts and asks what else you can learn from people’s status updates. You manage to extract a dataset of status updates that look like:"
   ]
  },
  {
   "cell_type": "code",
   "execution_count": null,
   "metadata": {},
   "outputs": [],
   "source": [
    "status_updates = [\n",
    "    {\"id\": 2,\n",
    "     \"username\" : \"joelgrus\",\n",
    "     \"text\" : \"Should I write a second edition of my data science book?\",\n",
    "     \"created_at\" : datetime.datetime(2018, 2, 21, 11, 47, 0),\n",
    "     \"liked_by\" : [\"data_guy\", \"data_gal\", \"mike\"] },\n",
    "     # ...\n",
    "]"
   ]
  },
  {
   "cell_type": "markdown",
   "metadata": {},
   "source": [
    "Let’s say we need to figure out which day of the week people talk the most about data science. In order to find this, we’ll just count how many data science updates there are on each day of the week. This means we’ll need to group by the day of week, so that’s our key. And if we emit a value of `1` for each update that contains “data science,” we can simply get the total number using `sum`:"
   ]
  },
  {
   "cell_type": "code",
   "execution_count": null,
   "metadata": {},
   "outputs": [],
   "source": [
    "def data_science_day_mapper(status_update: dict) -> Iterable:\n",
    "    \"\"\"Yields (day_of_week, 1) if status_update contains \"data science\" \"\"\"\n",
    "    if \"data science\" in status_update[\"text\"].lower():\n",
    "        day_of_week = status_update[\"created_at\"].weekday()\n",
    "        yield (day_of_week, 1)\n",
    "\n",
    "data_science_days = map_reduce(status_updates,\n",
    "                               data_science_day_mapper,\n",
    "                               sum_reducer)"
   ]
  },
  {
   "cell_type": "markdown",
   "metadata": {},
   "source": [
    "As a slightly more complicated example, imagine we need to find out for each user the most common word that she puts in her status updates. There are three possible approaches that spring to mind for the `mapper`:\n",
    "\n",
    "    - Put the username in the key; put the words and counts in the values.\n",
    "    - Put the word in the key; put the usernames and counts in the values.\n",
    "    - Put the username and word in the key; put the counts in the values.\n",
    "\n",
    "If you think about it a bit more, we definitely want to group by `username`, because we want to consider each person’s words separately. And we don’t want to group by `word`, since our reducer will need to see all the words for each person to find out which is the most popular. This means that the first option is the right choice:"
   ]
  },
  {
   "cell_type": "code",
   "execution_count": null,
   "metadata": {},
   "outputs": [],
   "source": [
    "def words_per_user_mapper(status_update: dict):\n",
    "    user = status_update[\"username\"]\n",
    "    for word in tokenize(status_update[\"text\"]):\n",
    "        yield (user, (word, 1))\n",
    "\n",
    "def most_popular_word_reducer(user: str,\n",
    "                              words_and_counts: Iterable[KV]):\n",
    "    \"\"\"\n",
    "    Given a sequence of (word, count) pairs,\n",
    "    return the word with the highest total count\n",
    "    \"\"\"\n",
    "    word_counts = Counter()\n",
    "    for word, count in words_and_counts:\n",
    "        word_counts[word] += count\n",
    "\n",
    "    word, count = word_counts.most_common(1)[0]\n",
    "\n",
    "    yield (user, (word, count))\n",
    "\n",
    "user_words = map_reduce(status_updates,\n",
    "                        words_per_user_mapper,\n",
    "                        most_popular_word_reducer)"
   ]
  },
  {
   "cell_type": "markdown",
   "metadata": {},
   "source": [
    "Or we could find out the number of distinct status-likers for each user:"
   ]
  },
  {
   "cell_type": "code",
   "execution_count": null,
   "metadata": {},
   "outputs": [],
   "source": [
    "def liker_mapper(status_update: dict):\n",
    "    user = status_update[\"username\"]\n",
    "    for liker in status_update[\"liked_by\"]:\n",
    "        yield (user, liker)\n",
    "\n",
    "distinct_likers_per_user = map_reduce(status_updates,\n",
    "                                      liker_mapper,\n",
    "                                      count_distinct_reducer)"
   ]
  },
  {
   "cell_type": "markdown",
   "metadata": {},
   "source": [
    "Example: **Matrix Multiplication**\n",
    "Recall from “Matrix Multiplication” that given an `[n, m]` matrix `A` and an `[m, k]` matrix `B`, we can multiply them to form an `[n, k]` matrix `C`, where the element of `C` in row `i` and column `j` is given by:"
   ]
  },
  {
   "cell_type": "code",
   "execution_count": null,
   "metadata": {},
   "outputs": [],
   "source": [
    "C[i][j] = sum(A[i][x] * B[x][j] for x in range(m))"
   ]
  },
  {
   "cell_type": "markdown",
   "metadata": {},
   "source": [
    "This works if we represent our matrices as lists of lists, as we’ve been doing.\n",
    "\n",
    "But large matrices are sometimes *sparse*, which means that most of their elements equal 0. For large sparse matrices, a list of lists can be a very wasteful representation. A more compact representation stores only the locations with nonzero values:"
   ]
  },
  {
   "cell_type": "code",
   "execution_count": null,
   "metadata": {},
   "outputs": [],
   "source": [
    "from typing import NamedTuple\n",
    "\n",
    "class Entry(NamedTuple):\n",
    "    name: str\n",
    "    i: int\n",
    "    j: int\n",
    "    value: float"
   ]
  },
  {
   "cell_type": "markdown",
   "metadata": {},
   "source": [
    "For example, a 1 billion × 1 billion matrix has 1 *quintillion* entries, which would not be easy to store on a computer. But if there are only a few nonzero entries in each row, this alternative representation is many orders of magnitude smaller.\n",
    "\n",
    "Given this sort of representation, it turns out that we can use MapReduce to perform matrix multiplication in a distributed manner.\n",
    "\n",
    "To motivate our algorithm, notice that each element `A[i][j]` is only used to compute the elements of `C` in row `i`, and each element `B[i][j]` is only used to compute the elements of `C` in column `j`. Our goal will be for each output of our `reducer` to be a single entry of `C`, which means we’ll need our mapper to emit keys identifying a single entry of `C`. This suggests the following:"
   ]
  },
  {
   "cell_type": "code",
   "execution_count": null,
   "metadata": {},
   "outputs": [],
   "source": [
    "def matrix_multiply_mapper(num_rows_a: int, num_cols_b: int) -> Mapper:\n",
    "    # C[x][y] = A[x][0] * B[0][y] + ... + A[x][m] * B[m][y]\n",
    "    #\n",
    "    # so an element A[i][j] goes into every C[i][y] with coef B[j][y]\n",
    "    # and an element B[i][j] goes into every C[x][j] with coef A[x][i]\n",
    "    def mapper(entry: Entry):\n",
    "        if entry.name == \"A\":\n",
    "            for y in range(num_cols_b):\n",
    "                key = (entry.i, y)              # which element of C\n",
    "                value = (entry.j, entry.value)  # which entry in the sum\n",
    "                yield (key, value)\n",
    "        else:\n",
    "            for x in range(num_rows_a):\n",
    "                key = (x, entry.j)              # which element of C\n",
    "                value = (entry.i, entry.value)  # which entry in the sum\n",
    "                yield (key, value)\n",
    "\n",
    "    return mapper"
   ]
  },
  {
   "cell_type": "markdown",
   "metadata": {},
   "source": [
    "And then:"
   ]
  },
  {
   "cell_type": "code",
   "execution_count": null,
   "metadata": {},
   "outputs": [],
   "source": [
    "def matrix_multiply_reducer(key: Tuple[int, int],\n",
    "                            indexed_values: Iterable[Tuple[int, int]]):\n",
    "    results_by_index = defaultdict(list)\n",
    "\n",
    "    for index, value in indexed_values:\n",
    "        results_by_index[index].append(value)\n",
    "\n",
    "    # Multiply the values for positions with two values\n",
    "    # (one from A, and one from B) and sum them up.\n",
    "    sumproduct = sum(values[0] * values[1]\n",
    "                     for values in results_by_index.values()\n",
    "                     if len(values) == 2)\n",
    "\n",
    "    if sumproduct != 0.0:\n",
    "        yield (key, sumproduct)"
   ]
  },
  {
   "cell_type": "markdown",
   "metadata": {},
   "source": [
    "For example, if you had these two matrices:"
   ]
  },
  {
   "cell_type": "code",
   "execution_count": null,
   "metadata": {},
   "outputs": [],
   "source": [
    "A = [[3, 2, 0],\n",
    "     [0, 0, 0]]\n",
    "\n",
    "B = [[4, -1, 0],\n",
    "     [10, 0, 0],\n",
    "     [0, 0, 0]]"
   ]
  },
  {
   "cell_type": "markdown",
   "metadata": {},
   "source": [
    "you could rewrite them as tuples:"
   ]
  },
  {
   "cell_type": "code",
   "execution_count": null,
   "metadata": {},
   "outputs": [],
   "source": [
    "entries = [Entry(\"A\", 0, 0, 3), Entry(\"A\", 0, 1,  2), Entry(\"B\", 0, 0, 4),\n",
    "           Entry(\"B\", 0, 1, -1), Entry(\"B\", 1, 0, 10)]\n",
    "\n",
    "\n",
    "mapper = matrix_multiply_mapper(num_rows_a=2, num_cols_b=3)\n",
    "reducer = matrix_multiply_reducer\n",
    "\n",
    "# Product should be [[32, -3, 0], [0, 0, 0]].\n",
    "# So it should have two entries.\n",
    "assert (set(map_reduce(entries, mapper, reducer)) ==\n",
    "        {((0, 1), -3), ((0, 0), 32)})"
   ]
  },
  {
   "cell_type": "markdown",
   "metadata": {},
   "source": [
    "This isn’t terribly interesting on such small matrices, but if you had millions of rows and millions of columns, it could help you a lot."
   ]
  },
  {
   "cell_type": "markdown",
   "metadata": {},
   "source": [
    "**An Aside: Combiners**\n",
    "\n",
    "One thing you have probably noticed is that many of our mappers seem to include a bunch of extra information. For example, when counting words, rather than emitting `(word, 1)` and summing over the values, we could have emitted `(word, None)` and just taken the length.\n",
    "\n",
    "One reason we didn’t do this is that, in the distributed setting, we sometimes want to use combiners to reduce the amount of data that has to be transferred around from machine to machine. If one of our mapper machines sees the word data 500 times, we can tell it to combine the 500 instances of `(\"data\", 1)` into a single `(\"data\", 500)` before handing off to the reducing machine. This results in a lot less data getting moved around, which can make our algorithm substantially faster still.\n",
    "\n",
    "Because of the way we wrote our reducer, it would handle this combined data correctly. (If we’d written it using `len`, it would not have.)"
   ]
  },
  {
   "cell_type": "markdown",
   "metadata": {},
   "source": [
    "**For Further Exploration**\n",
    "\n",
    "- Like I said, MapReduce feels a lot less popular now than it did when I wrote the first edition. It’s probably not worth investing a ton of your time.\n",
    "- That said, the most widely used MapReduce system is **Hadoop**. There are various commercial and noncommercial distributions and a huge ecosystem of Hadoop-related tools.\n",
    "- Amazon.com offers an **Elastic MapReduce** service that’s probably easier than setting up your own cluster.\n",
    "- Hadoop jobs are typically high-latency, which makes them a poor choice for “real-time” analytics. A popular choice for these workloads is **Spark**, which can be MapReduce-y."
   ]
  }
 ],
 "metadata": {
  "language_info": {
   "name": "python"
  }
 },
 "nbformat": 4,
 "nbformat_minor": 2
}
