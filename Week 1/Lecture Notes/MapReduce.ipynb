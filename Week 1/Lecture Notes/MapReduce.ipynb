{
 "cells": [
  {
   "cell_type": "markdown",
   "metadata": {},
   "source": [
    "**Split, Apply, Combine Approach**"
   ]
  },
  {
   "cell_type": "markdown",
   "metadata": {},
   "source": [
    "**Concept Overview**: \n",
    "- This is a general approach to data analysis where a large problem is divided into smaller, manageable parts (*split*), operations are performed on each part (*apply*), and the results are reassembled into the final output (*combine*).\n",
    "\n",
    "**Application**: \n",
    "- Commonly seen in data tools like Pandas where operations such as group by, apply, and summarize follow this approach."
   ]
  },
  {
   "cell_type": "markdown",
   "metadata": {},
   "source": [
    "**MapReduce**"
   ]
  },
  {
   "cell_type": "markdown",
   "metadata": {},
   "source": [
    "**Introduction**: MapReduce is a specific implementation of the split, apply, combine approach tailored for big data analysis.\n",
    "**Scalability and Parallel Processing**: It is designed to work efficiently across parallel and distributed computing clusters, from personal computers to supercomputers."
   ]
  },
  {
   "cell_type": "markdown",
   "metadata": {},
   "source": [
    "**Stages of MapReduce**\n",
    "1. **Mapping**: This stage involves splitting input data, typically line by line, and applying transformations to generate key-value pairs.\n",
    "2. **Reducing**: The reducing phase consolidates related data pieces (often sharing a key) using summarization functions like counting, summing, or averaging. The goal is to condense data into fewer outputs, often a single value.\n",
    "3. **Additional Stages**: Other processes such as *splitting*, *shuffling*, and *combining* often accompany or integrate into the standard MapReduce workflow."
   ]
  },
  {
   "cell_type": "markdown",
   "metadata": {},
   "source": [
    "**Practical Understanding**"
   ]
  },
  {
   "cell_type": "markdown",
   "metadata": {},
   "source": [
    "**Hands-On Learning**:\n",
    "- It's emphasized that practical engagement ('getting our hands onto things') will enhance understanding of the MapReduce process.\n",
    "\n",
    "**Commands and Functions**:\n",
    "- Different operations such as emitting key-value pairs during mapping or summarizing in reducing are explained through examples like counting and averaging."
   ]
  },
  {
   "cell_type": "markdown",
   "metadata": {},
   "source": [
    "**Context and Application**:"
   ]
  },
  {
   "cell_type": "markdown",
   "metadata": {},
   "source": [
    "**Real-World Application**: \n",
    "- The MapReduce model's primary application is in handling large datasets efficiently across multiple processing units, making it foundational in big data workflows.\n",
    "\n",
    "**Adaptability**: \n",
    "- It can be utilized for both numerical and textual data processing, highlighting its versatility.\n",
    "\n",
    "> This discussion effectively sets the groundwork for understanding how large-scale data processing can be approached with MapReduce, emphasizing the importance of methodology that efficiently scales and utilizes parallel computing."
   ]
  }
 ],
 "metadata": {
  "language_info": {
   "name": "python"
  }
 },
 "nbformat": 4,
 "nbformat_minor": 2
}
