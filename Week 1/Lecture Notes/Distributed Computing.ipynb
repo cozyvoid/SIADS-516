{
 "cells": [
  {
   "cell_type": "markdown",
   "metadata": {},
   "source": [
    "**Big Data Philosophy and Analysis**"
   ]
  },
  {
   "cell_type": "markdown",
   "metadata": {},
   "source": [
    "- Big data is viewed not just as a set of large datasets but also as an approach and a philosophy for analyzing data effectively.\n",
    "- Concepts of mapping and reducing were briefly touched upon, emphasizing their abstract nature in data processing."
   ]
  },
  {
   "cell_type": "markdown",
   "metadata": {},
   "source": [
    "**Distributed Computing**\n",
    "\n",
    "*Definition and Importance*: \n",
    "    - Distributed computing is explained as a method to enhance computational power, distinguishing between two types of scaling:"
   ]
  },
  {
   "cell_type": "markdown",
   "metadata": {},
   "source": [
    "- **Vertical Scaling**: Involves upgrading to a more powerful machine when computational limits are reached.\n",
    "- **Horizontal Scaling**: Utilizes multiple machines to perform either the same analyses or different components of an analysis, thus improving efficiency without relying solely on more powerful hardware."
   ]
  },
  {
   "cell_type": "markdown",
   "metadata": {},
   "source": [
    "*Cost and Efficiency Considerations*: - The choice between scaling methods often depends on budget constraints and the acceptable levels of delay in processing analysis requests"
   ]
  },
  {
   "cell_type": "markdown",
   "metadata": {},
   "source": [
    "**MapReduce and Its Application**"
   ]
  },
  {
   "cell_type": "markdown",
   "metadata": {},
   "source": [
    "**Relationship with Distributed Computing**: MapReduce is closely related to distributed computing, especially when tasks can be divided and processed independently without interdependencies."
   ]
  },
  {
   "cell_type": "markdown",
   "metadata": {},
   "source": [
    "**Process Explanation**:"
   ]
  },
  {
   "cell_type": "markdown",
   "metadata": {},
   "source": [
    "- Involves splitting the input data, where each segment (e.g., lines of text) can be processed independently.\n",
    "- For example, calculating the average number of words per line is straightforward when there are no dependencies between lines.\n",
    "- This allows for distributing tasks across multiple machines, akin to how individuals might independently analyze sections of a document."
   ]
  },
  {
   "cell_type": "markdown",
   "metadata": {},
   "source": [
    "**Practical Implications**"
   ]
  },
  {
   "cell_type": "markdown",
   "metadata": {},
   "source": [
    "- A pragmatic example shows how MapReduce could be applied to count words in lines of a document, emphasizing the independence of each line's analysis, which aligns well with distributed computing frameworks."
   ]
  },
  {
   "cell_type": "markdown",
   "metadata": {},
   "source": [
    "> This discussion illustrates the foundational principles of distributed computing and MapReduce, highlighting how they facilitate efficient data analysis in big data contexts."
   ]
  }
 ],
 "metadata": {
  "language_info": {
   "name": "python"
  }
 },
 "nbformat": 4,
 "nbformat_minor": 2
}
